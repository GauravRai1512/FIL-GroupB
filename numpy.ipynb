{
 "cells": [
  {
   "cell_type": "code",
   "execution_count": 1,
   "id": "6fbe23ba",
   "metadata": {},
   "outputs": [],
   "source": [
    "import numpy as np"
   ]
  },
  {
   "cell_type": "code",
   "execution_count": 16,
   "id": "fdf1f264",
   "metadata": {},
   "outputs": [
    {
     "name": "stdout",
     "output_type": "stream",
     "text": [
      "[0. 0.]\n",
      "[0 0]\n",
      "[1. 1. 1. 1.]\n",
      "[0. 0.]\n",
      "[ 0  3  6 10]\n"
     ]
    }
   ],
   "source": [
    "# How to create a basic array\n",
    "\n",
    "arrayWithoutdType = np.zeros(2)\n",
    "print(arrayWithoutdType)\n",
    "\n",
    "arrayWithDataType=np.zeros(2, dtype=np.int64)\n",
    "print(arrayWithDataType)\n",
    "\n",
    "print(np.ones(4))\n",
    "\n",
    "\n",
    "print(np.empty(2))\n",
    "\n",
    "print(np.linspace(0, 10, num=4, dtype=np.int64))"
   ]
  },
  {
   "cell_type": "code",
   "execution_count": 22,
   "id": "8f8408f4",
   "metadata": {},
   "outputs": [
    {
     "name": "stdout",
     "output_type": "stream",
     "text": [
      "[[1 4]\n",
      " [1 3]]\n",
      "[1 1 3 4]\n"
     ]
    },
    {
     "data": {
      "text/plain": [
       "array([[1, 4],\n",
       "       [1, 3]])"
      ]
     },
     "execution_count": 22,
     "metadata": {},
     "output_type": "execute_result"
    }
   ],
   "source": [
    "# Adding Removing Sorting elements\n",
    "arr = np.array([2, 1, 5, 3, 7, 4, 6, 8])\n",
    "np.sort(arr)\n",
    "\n",
    "a = np.array([[1,4],[3,1]])\n",
    "\n",
    "print(np.sort(a))\n",
    "\n",
    "print(np.sort(a, axis=None)) #sort the flattened array\n",
    "\n",
    "np.sort(a, axis=0)   #sort along the first axis\n",
    "\n",
    "np.sort(a, axis=1)"
   ]
  },
  {
   "cell_type": "code",
   "execution_count": 23,
   "id": "5907a813",
   "metadata": {},
   "outputs": [
    {
     "data": {
      "text/plain": [
       "array([(b'Galahad', 1.7, 38), (b'Arthur', 1.8, 41),\n",
       "       (b'Lancelot', 1.9, 38)],\n",
       "      dtype=[('name', 'S10'), ('height', '<f8'), ('age', '<i4')])"
      ]
     },
     "execution_count": 23,
     "metadata": {},
     "output_type": "execute_result"
    }
   ],
   "source": [
    "#Use the order keyword to specify a field to use when sorting a structured array\n",
    "\n",
    "dtype = [('name', 'S10'), ('height', float), ('age', int)]\n",
    "values = [('Arthur', 1.8, 41), ('Lancelot', 1.9, 38),\n",
    "          ('Galahad', 1.7, 38)]\n",
    "\n",
    "a = np.array(values, dtype=dtype)       # create a structured array\n",
    "np.sort(a, order='height')"
   ]
  },
  {
   "cell_type": "code",
   "execution_count": 24,
   "id": "34cf83f8",
   "metadata": {},
   "outputs": [
    {
     "data": {
      "text/plain": [
       "array([(b'Galahad', 1.7, 38), (b'Lancelot', 1.9, 38),\n",
       "       (b'Arthur', 1.8, 41)],\n",
       "      dtype=[('name', 'S10'), ('height', '<f8'), ('age', '<i4')])"
      ]
     },
     "execution_count": 24,
     "metadata": {},
     "output_type": "execute_result"
    }
   ],
   "source": [
    "# Sort by age, then height if ages are equal:\n",
    "\n",
    "np.sort(a, order=['age', 'height'])"
   ]
  },
  {
   "cell_type": "code",
   "execution_count": null,
   "id": "b3b9dcb1",
   "metadata": {},
   "outputs": [],
   "source": [
    "# numpy.lexsort\n",
    "\n"
   ]
  }
 ],
 "metadata": {
  "kernelspec": {
   "display_name": "Python 3 (ipykernel)",
   "language": "python",
   "name": "python3"
  },
  "language_info": {
   "codemirror_mode": {
    "name": "ipython",
    "version": 3
   },
   "file_extension": ".py",
   "mimetype": "text/x-python",
   "name": "python",
   "nbconvert_exporter": "python",
   "pygments_lexer": "ipython3",
   "version": "3.9.12"
  }
 },
 "nbformat": 4,
 "nbformat_minor": 5
}
