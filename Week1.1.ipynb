{
 "cells": [
  {
   "cell_type": "code",
   "execution_count": 7,
   "id": "9c87df37",
   "metadata": {},
   "outputs": [
    {
     "name": "stdout",
     "output_type": "stream",
     "text": [
      " Enter First Number 78\n",
      " Enter Second Number 90\n",
      "168\n"
     ]
    }
   ],
   "source": [
    "a = int(input(\" Enter First Number \"))\n",
    "b = int(input(\" Enter Second Number \"))\n",
    "add = a+b\n",
    "print(add)"
   ]
  },
  {
   "cell_type": "code",
   "execution_count": 8,
   "id": "17a7b694",
   "metadata": {},
   "outputs": [
    {
     "name": "stdout",
     "output_type": "stream",
     "text": [
      " Enter First Number 56\n",
      " Enter Second Number 34\n",
      "22\n"
     ]
    }
   ],
   "source": [
    "x = int(input(\" Enter First Number \"))\n",
    "y = int(input(\" Enter Second Number \"))\n",
    "subtract = x-y\n",
    "print(subtract)"
   ]
  },
  {
   "cell_type": "code",
   "execution_count": 9,
   "id": "0bc92ab0",
   "metadata": {},
   "outputs": [
    {
     "name": "stdout",
     "output_type": "stream",
     "text": [
      " Enter First Number 89\n",
      " Enter Second Number 76\n",
      "6764\n"
     ]
    }
   ],
   "source": [
    "m = int(input(\" Enter First Number \"))\n",
    "n = int(input(\" Enter Second Number \"))\n",
    "multiply = m*n\n",
    "print(multiply)"
   ]
  },
  {
   "cell_type": "code",
   "execution_count": 10,
   "id": "aa6fa59a",
   "metadata": {},
   "outputs": [
    {
     "name": "stdout",
     "output_type": "stream",
     "text": [
      " Enter First Number 87\n",
      " Enter Second Number 45\n",
      "1.9333333333333333\n"
     ]
    }
   ],
   "source": [
    "o = int(input(\" Enter First Number \"))\n",
    "p = int(input(\" Enter Second Number \"))\n",
    "divide = o/p\n",
    "print(divide)"
   ]
  },
  {
   "cell_type": "code",
   "execution_count": 11,
   "id": "c21b324f",
   "metadata": {},
   "outputs": [
    {
     "name": "stdout",
     "output_type": "stream",
     "text": [
      " Enter First Number 6\n",
      " Enter Second Number 7\n",
      "279936\n"
     ]
    }
   ],
   "source": [
    "q = int(input(\" Enter First Number \"))\n",
    "r = int(input(\" Enter Second Number \"))\n",
    "exponentian = q**r\n",
    "print(exponentian)"
   ]
  },
  {
   "cell_type": "code",
   "execution_count": 13,
   "id": "57425e3d",
   "metadata": {},
   "outputs": [
    {
     "name": "stdout",
     "output_type": "stream",
     "text": [
      " Enter First Number 78\n",
      " Enter Second Number 67\n",
      "1\n"
     ]
    }
   ],
   "source": [
    "s = int(input(\" Enter First Number \"))\n",
    "t = int(input(\" Enter Second Number \"))\n",
    "floorDivision = s//t\n",
    "print(floorDivision)"
   ]
  },
  {
   "cell_type": "code",
   "execution_count": 14,
   "id": "149a04f5",
   "metadata": {},
   "outputs": [
    {
     "name": "stdout",
     "output_type": "stream",
     "text": [
      " Enter First Number 90\n",
      " Enter Second Number 45\n",
      "0\n"
     ]
    }
   ],
   "source": [
    "u = int(input(\" Enter First Number \"))\n",
    "v = int(input(\" Enter Second Number \"))\n",
    "module = u%v\n",
    "print(module)"
   ]
  },
  {
   "cell_type": "code",
   "execution_count": null,
   "id": "9510dadc",
   "metadata": {},
   "outputs": [],
   "source": []
  }
 ],
 "metadata": {
  "kernelspec": {
   "display_name": "Python 3 (ipykernel)",
   "language": "python",
   "name": "python3"
  },
  "language_info": {
   "codemirror_mode": {
    "name": "ipython",
    "version": 3
   },
   "file_extension": ".py",
   "mimetype": "text/x-python",
   "name": "python",
   "nbconvert_exporter": "python",
   "pygments_lexer": "ipython3",
   "version": "3.9.12"
  }
 },
 "nbformat": 4,
 "nbformat_minor": 5
}
