{
 "cells": [
  {
   "cell_type": "code",
   "execution_count": 1,
   "id": "6edb3312",
   "metadata": {},
   "outputs": [],
   "source": [
    "#Intrinsic numpy array creation\n",
    "import numpy as np"
   ]
  },
  {
   "cell_type": "code",
   "execution_count": 3,
   "id": "ef6413d2",
   "metadata": {},
   "outputs": [
    {
     "data": {
      "text/plain": [
       "array([0, 1, 2, 3, 4, 5, 6, 7, 8, 9])"
      ]
     },
     "execution_count": 3,
     "metadata": {},
     "output_type": "execute_result"
    }
   ],
   "source": [
    "integers_array=np.arange(10)\n",
    "integers_array"
   ]
  },
  {
   "cell_type": "code",
   "execution_count": 4,
   "id": "c256cc0f",
   "metadata": {},
   "outputs": [
    {
     "data": {
      "text/plain": [
       "array([100, 101, 102, 103, 104, 105, 106, 107, 108, 109, 110, 111, 112,\n",
       "       113, 114, 115, 116, 117, 118, 119, 120, 121, 122, 123, 124, 125,\n",
       "       126, 127, 128, 129])"
      ]
     },
     "execution_count": 4,
     "metadata": {},
     "output_type": "execute_result"
    }
   ],
   "source": [
    "integers_second_array=np.arange(100,130)\n",
    "integers_second_array"
   ]
  },
  {
   "cell_type": "code",
   "execution_count": 5,
   "id": "28bd4bbe",
   "metadata": {},
   "outputs": [
    {
     "data": {
      "text/plain": [
       "array([100, 102, 104, 106, 108, 110, 112, 114, 116, 118, 120, 122, 124,\n",
       "       126, 128, 130, 132, 134, 136, 138, 140, 142, 144, 146, 148, 150])"
      ]
     },
     "execution_count": 5,
     "metadata": {},
     "output_type": "execute_result"
    }
   ],
   "source": [
    "integers_third_array=np.arange(100,151,2)\n",
    "integers_third_array"
   ]
  },
  {
   "cell_type": "code",
   "execution_count": 7,
   "id": "36fb91d8",
   "metadata": {},
   "outputs": [
    {
     "data": {
      "text/plain": [
       "array([10.        , 10.20408163, 10.40816327, 10.6122449 , 10.81632653,\n",
       "       11.02040816, 11.2244898 , 11.42857143, 11.63265306, 11.83673469,\n",
       "       12.04081633, 12.24489796, 12.44897959, 12.65306122, 12.85714286,\n",
       "       13.06122449, 13.26530612, 13.46938776, 13.67346939, 13.87755102,\n",
       "       14.08163265, 14.28571429, 14.48979592, 14.69387755, 14.89795918,\n",
       "       15.10204082, 15.30612245, 15.51020408, 15.71428571, 15.91836735,\n",
       "       16.12244898, 16.32653061, 16.53061224, 16.73469388, 16.93877551,\n",
       "       17.14285714, 17.34693878, 17.55102041, 17.75510204, 17.95918367,\n",
       "       18.16326531, 18.36734694, 18.57142857, 18.7755102 , 18.97959184,\n",
       "       19.18367347, 19.3877551 , 19.59183673, 19.79591837, 20.        ])"
      ]
     },
     "execution_count": 7,
     "metadata": {},
     "output_type": "execute_result"
    }
   ],
   "source": [
    "first_floats_arr=np.linspace(10,20)\n",
    "first_floats_arr"
   ]
  },
  {
   "cell_type": "code",
   "execution_count": 8,
   "id": "e26c3685",
   "metadata": {},
   "outputs": [
    {
     "data": {
      "text/plain": [
       "array([10. , 12.5, 15. , 17.5, 20. ])"
      ]
     },
     "execution_count": 8,
     "metadata": {},
     "output_type": "execute_result"
    }
   ],
   "source": [
    "second_floats_arr=np.linspace(10,20,5)\n",
    "second_floats_arr"
   ]
  },
  {
   "cell_type": "code",
   "execution_count": 9,
   "id": "38ca8aad",
   "metadata": {},
   "outputs": [
    {
     "data": {
      "text/plain": [
       "array([0.08922298, 0.74142688, 0.72151265, 0.82217219, 0.29356038,\n",
       "       0.38307737, 0.84596223, 0.66896839, 0.45751326, 0.3319336 ])"
      ]
     },
     "execution_count": 9,
     "metadata": {},
     "output_type": "execute_result"
    }
   ],
   "source": [
    "First_rand_array = np.random.rand(10)\n",
    "First_rand_array"
   ]
  },
  {
   "cell_type": "code",
   "execution_count": 10,
   "id": "553c582b",
   "metadata": {},
   "outputs": [
    {
     "data": {
      "text/plain": [
       "array([[0.11608422, 0.01849437, 0.71848664, 0.55551694],\n",
       "       [0.37469404, 0.46078573, 0.73711007, 0.70459945],\n",
       "       [0.73838737, 0.37180163, 0.03978578, 0.38906598],\n",
       "       [0.6225769 , 0.7723848 , 0.36380562, 0.9022351 ]])"
      ]
     },
     "execution_count": 10,
     "metadata": {},
     "output_type": "execute_result"
    }
   ],
   "source": [
    "second_rand_array = np.random.rand(4,4)\n",
    "second_rand_array"
   ]
  },
  {
   "cell_type": "code",
   "execution_count": 13,
   "id": "d71d6828",
   "metadata": {},
   "outputs": [
    {
     "data": {
      "text/plain": [
       "array([22, 85, 45, 60, 73, 27, 56, 15, 91, 24,  7, 12, 12, 13, 47, 39, 24,\n",
       "       54, 14, 88])"
      ]
     },
     "execution_count": 13,
     "metadata": {},
     "output_type": "execute_result"
    }
   ],
   "source": [
    "third_rand_array = np.random.randint(0,100,20)\n",
    "third_rand_array"
   ]
  },
  {
   "cell_type": "code",
   "execution_count": null,
   "id": "ae83b40f",
   "metadata": {},
   "outputs": [],
   "source": []
  }
 ],
 "metadata": {
  "kernelspec": {
   "display_name": "Python 3 (ipykernel)",
   "language": "python",
   "name": "python3"
  },
  "language_info": {
   "codemirror_mode": {
    "name": "ipython",
    "version": 3
   },
   "file_extension": ".py",
   "mimetype": "text/x-python",
   "name": "python",
   "nbconvert_exporter": "python",
   "pygments_lexer": "ipython3",
   "version": "3.9.12"
  }
 },
 "nbformat": 4,
 "nbformat_minor": 5
}
