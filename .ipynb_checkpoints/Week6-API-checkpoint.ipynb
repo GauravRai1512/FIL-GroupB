{
 "cells": [
  {
   "cell_type": "code",
   "execution_count": 1,
   "id": "f6970da8",
   "metadata": {},
   "outputs": [],
   "source": [
    "import requests"
   ]
  },
  {
   "cell_type": "code",
   "execution_count": 4,
   "id": "cbf6556b",
   "metadata": {},
   "outputs": [],
   "source": [
    "request = requests.get('http://api.open-notify.org/')"
   ]
  },
  {
   "cell_type": "code",
   "execution_count": 6,
   "id": "3d24b4b2",
   "metadata": {},
   "outputs": [
    {
     "name": "stdout",
     "output_type": "stream",
     "text": [
      "200\n"
     ]
    }
   ],
   "source": [
    "print(request.status_code)"
   ]
  },
  {
   "cell_type": "code",
   "execution_count": 8,
   "id": "91fa2311",
   "metadata": {},
   "outputs": [
    {
     "name": "stdout",
     "output_type": "stream",
     "text": [
      "200\n"
     ]
    }
   ],
   "source": [
    "request=requests.get('http://api.open-notify.org/iss-now.json')\n",
    "print(request.status_code)"
   ]
  },
  {
   "cell_type": "code",
   "execution_count": 9,
   "id": "8e19be7b",
   "metadata": {},
   "outputs": [],
   "source": [
    "data=request.json()"
   ]
  },
  {
   "cell_type": "code",
   "execution_count": 10,
   "id": "14fdf9d6",
   "metadata": {},
   "outputs": [
    {
     "name": "stdout",
     "output_type": "stream",
     "text": [
      "{'message': 'success', 'iss_position': {'longitude': '47.0136', 'latitude': '-45.0925'}, 'timestamp': 1661264719}\n"
     ]
    }
   ],
   "source": [
    "print(data)"
   ]
  },
  {
   "cell_type": "code",
   "execution_count": 12,
   "id": "0a4166f5",
   "metadata": {},
   "outputs": [
    {
     "name": "stdout",
     "output_type": "stream",
     "text": [
      "47.0136\n"
     ]
    }
   ],
   "source": [
    "print(data['iss_position']['longitude'])"
   ]
  },
  {
   "cell_type": "code",
   "execution_count": 16,
   "id": "d95a52c3",
   "metadata": {},
   "outputs": [
    {
     "name": "stdout",
     "output_type": "stream",
     "text": [
      "200\n"
     ]
    }
   ],
   "source": [
    "requestAstros=requests.get('http://api.open-notify.org/astros.json')\n",
    "print(requestAstros.status_code)"
   ]
  },
  {
   "cell_type": "code",
   "execution_count": 18,
   "id": "adfba61a",
   "metadata": {},
   "outputs": [
    {
     "name": "stdout",
     "output_type": "stream",
     "text": [
      "{'number': 10, 'people': [{'name': 'Oleg Artemyev', 'craft': 'ISS'}, {'name': 'Denis Matveev', 'craft': 'ISS'}, {'name': 'Sergey Korsakov', 'craft': 'ISS'}, {'name': 'Kjell Lindgren', 'craft': 'ISS'}, {'name': 'Bob Hines', 'craft': 'ISS'}, {'name': 'Samantha Cristoforetti', 'craft': 'ISS'}, {'name': 'Jessica Watkins', 'craft': 'ISS'}, {'name': 'Cai Xuzhe', 'craft': 'Tiangong'}, {'name': 'Chen Dong', 'craft': 'Tiangong'}, {'name': 'Liu Yang', 'craft': 'Tiangong'}], 'message': 'success'}\n"
     ]
    }
   ],
   "source": [
    "data=requestAstros.json()\n",
    "print(data)"
   ]
  },
  {
   "cell_type": "code",
   "execution_count": 20,
   "id": "f63a6e4c",
   "metadata": {},
   "outputs": [
    {
     "name": "stdout",
     "output_type": "stream",
     "text": [
      "10\n"
     ]
    }
   ],
   "source": [
    "print(len(data['people']))"
   ]
  },
  {
   "cell_type": "code",
   "execution_count": 27,
   "id": "6f95fc62",
   "metadata": {},
   "outputs": [
    {
     "data": {
      "text/plain": [
       "'Oleg Artemyev'"
      ]
     },
     "execution_count": 27,
     "metadata": {},
     "output_type": "execute_result"
    }
   ],
   "source": [
    "data['people'][0]['name']"
   ]
  },
  {
   "cell_type": "code",
   "execution_count": 29,
   "id": "01912e30",
   "metadata": {},
   "outputs": [
    {
     "name": "stdout",
     "output_type": "stream",
     "text": [
      "Oleg Artemyev\n",
      "Denis Matveev\n",
      "Sergey Korsakov\n",
      "Kjell Lindgren\n",
      "Bob Hines\n",
      "Samantha Cristoforetti\n",
      "Jessica Watkins\n",
      "Cai Xuzhe\n",
      "Chen Dong\n",
      "Liu Yang\n"
     ]
    }
   ],
   "source": [
    "for i in data['people']:\n",
    "  print(i['name'])"
   ]
  },
  {
   "cell_type": "code",
   "execution_count": null,
   "id": "5cbb03ce",
   "metadata": {},
   "outputs": [],
   "source": []
  }
 ],
 "metadata": {
  "kernelspec": {
   "display_name": "Python 3 (ipykernel)",
   "language": "python",
   "name": "python3"
  },
  "language_info": {
   "codemirror_mode": {
    "name": "ipython",
    "version": 3
   },
   "file_extension": ".py",
   "mimetype": "text/x-python",
   "name": "python",
   "nbconvert_exporter": "python",
   "pygments_lexer": "ipython3",
   "version": "3.9.12"
  }
 },
 "nbformat": 4,
 "nbformat_minor": 5
}
