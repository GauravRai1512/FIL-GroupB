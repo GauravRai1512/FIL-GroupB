{
 "cells": [
  {
   "cell_type": "code",
   "execution_count": 1,
   "id": "d81d5186",
   "metadata": {},
   "outputs": [],
   "source": [
    "# Creating arrays filled with constant values\n",
    "import numpy as np"
   ]
  },
  {
   "cell_type": "code",
   "execution_count": 2,
   "id": "482ff1dd",
   "metadata": {},
   "outputs": [
    {
     "data": {
      "text/plain": [
       "array([0., 0., 0., 0.])"
      ]
     },
     "execution_count": 2,
     "metadata": {},
     "output_type": "execute_result"
    }
   ],
   "source": [
    "first_z_element=np.zeros(4)\n",
    "first_z_element"
   ]
  },
  {
   "cell_type": "code",
   "execution_count": 5,
   "id": "2f1d8f81",
   "metadata": {},
   "outputs": [
    {
     "data": {
      "text/plain": [
       "array([[0., 0., 0., 0.],\n",
       "       [0., 0., 0., 0.],\n",
       "       [0., 0., 0., 0.],\n",
       "       [0., 0., 0., 0.]])"
      ]
     },
     "execution_count": 5,
     "metadata": {},
     "output_type": "execute_result"
    }
   ],
   "source": [
    "second_z_element=np.zeros((4,4))\n",
    "second_z_element"
   ]
  },
  {
   "cell_type": "code",
   "execution_count": 8,
   "id": "2c614a15",
   "metadata": {},
   "outputs": [
    {
     "name": "stdout",
     "output_type": "stream",
     "text": [
      "[0 0 0 0]\n"
     ]
    }
   ],
   "source": [
    "first_z_element_with_type=np.zeros(4, dtype='int64')\n",
    "first_z_element_with_type\n",
    "\n",
    "print(first_z_element_with_type)"
   ]
  },
  {
   "cell_type": "code",
   "execution_count": null,
   "id": "8b092fbe",
   "metadata": {},
   "outputs": [],
   "source": []
  }
 ],
 "metadata": {
  "kernelspec": {
   "display_name": "Python 3 (ipykernel)",
   "language": "python",
   "name": "python3"
  },
  "language_info": {
   "codemirror_mode": {
    "name": "ipython",
    "version": 3
   },
   "file_extension": ".py",
   "mimetype": "text/x-python",
   "name": "python",
   "nbconvert_exporter": "python",
   "pygments_lexer": "ipython3",
   "version": "3.9.12"
  }
 },
 "nbformat": 4,
 "nbformat_minor": 5
}
